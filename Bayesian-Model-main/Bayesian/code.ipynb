{
  "nbformat": 4,
  "nbformat_minor": 0,
  "metadata": {
    "colab": {
      "name": "code.ipynb",
      "provenance": [],
      "collapsed_sections": []
    },
    "kernelspec": {
      "name": "python3",
      "display_name": "Python 3"
    }
  },
  "cells": [
    {
      "cell_type": "code",
      "metadata": {
        "id": "T8YYfIYA8tO_"
      },
      "source": [
        "import matplotlib.pyplot as plt\n",
        "import numpy as np\n",
        "\n",
        "import random"
      ],
      "execution_count": 32,
      "outputs": []
    },
    {
      "cell_type": "markdown",
      "metadata": {
        "id": "rjNfh71I_zUD"
      },
      "source": [
        ""
      ]
    },
    {
      "cell_type": "code",
      "metadata": {
        "id": "mA3C_x8W817v"
      },
      "source": [
        "horizontal=17\n",
        "Total=27"
      ],
      "execution_count": 33,
      "outputs": []
    },
    {
      "cell_type": "code",
      "metadata": {
        "id": "olbFI7dC9DOg",
        "outputId": "6e8a9ba2-c517-4e1f-a3f0-fce5b6bba9b0",
        "colab": {
          "base_uri": "https://localhost:8080/",
          "height": 187
        }
      },
      "source": [
        "theta_range=np.linspace(0,1,50)\n",
        "\n",
        "theta_range"
      ],
      "execution_count": 34,
      "outputs": [
        {
          "output_type": "execute_result",
          "data": {
            "text/plain": [
              "array([0.        , 0.02040816, 0.04081633, 0.06122449, 0.08163265,\n",
              "       0.10204082, 0.12244898, 0.14285714, 0.16326531, 0.18367347,\n",
              "       0.20408163, 0.2244898 , 0.24489796, 0.26530612, 0.28571429,\n",
              "       0.30612245, 0.32653061, 0.34693878, 0.36734694, 0.3877551 ,\n",
              "       0.40816327, 0.42857143, 0.44897959, 0.46938776, 0.48979592,\n",
              "       0.51020408, 0.53061224, 0.55102041, 0.57142857, 0.59183673,\n",
              "       0.6122449 , 0.63265306, 0.65306122, 0.67346939, 0.69387755,\n",
              "       0.71428571, 0.73469388, 0.75510204, 0.7755102 , 0.79591837,\n",
              "       0.81632653, 0.83673469, 0.85714286, 0.87755102, 0.89795918,\n",
              "       0.91836735, 0.93877551, 0.95918367, 0.97959184, 1.        ])"
            ]
          },
          "metadata": {
            "tags": []
          },
          "execution_count": 34
        }
      ]
    },
    {
      "cell_type": "code",
      "metadata": {
        "id": "i4xg00Eb9PrB",
        "outputId": "7090e5a2-9985-43a3-ece5-83c0b3f44fd1",
        "colab": {
          "base_uri": "https://localhost:8080/",
          "height": 102
        }
      },
      "source": [
        "\n",
        "prior=np.full(50,1/50)\n",
        "prior"
      ],
      "execution_count": 35,
      "outputs": [
        {
          "output_type": "execute_result",
          "data": {
            "text/plain": [
              "array([0.02, 0.02, 0.02, 0.02, 0.02, 0.02, 0.02, 0.02, 0.02, 0.02, 0.02,\n",
              "       0.02, 0.02, 0.02, 0.02, 0.02, 0.02, 0.02, 0.02, 0.02, 0.02, 0.02,\n",
              "       0.02, 0.02, 0.02, 0.02, 0.02, 0.02, 0.02, 0.02, 0.02, 0.02, 0.02,\n",
              "       0.02, 0.02, 0.02, 0.02, 0.02, 0.02, 0.02, 0.02, 0.02, 0.02, 0.02,\n",
              "       0.02, 0.02, 0.02, 0.02, 0.02, 0.02])"
            ]
          },
          "metadata": {
            "tags": []
          },
          "execution_count": 35
        }
      ]
    },
    {
      "cell_type": "code",
      "metadata": {
        "id": "_wD_Dkzz9oWU",
        "outputId": "6ce1b8f0-fb2b-4f8c-b07e-72c3c68f414f",
        "colab": {
          "base_uri": "https://localhost:8080/",
          "height": 282
        }
      },
      "source": [
        "plt.plot(theta_range,prior)"
      ],
      "execution_count": 36,
      "outputs": [
        {
          "output_type": "execute_result",
          "data": {
            "text/plain": [
              "[<matplotlib.lines.Line2D at 0x7f5ad29ba518>]"
            ]
          },
          "metadata": {
            "tags": []
          },
          "execution_count": 36
        },
        {
          "output_type": "display_data",
          "data": {
            "image/png": "[encoded data removed]",
            "text/plain": [
              "<Figure size 432x288 with 1 Axes>"
            ]
          },
          "metadata": {
            "tags": [],
            "needs_background": "light"
          }
        }
      ]
    },
    {
      "cell_type": "code",
      "metadata": {
        "id": "k6xoV8-a4l98",
        "outputId": "c3aaa53a-2e22-4d56-cea9-5e1cc6d7d6ce",
        "colab": {
          "base_uri": "https://localhost:8080/",
          "height": 476
        }
      },
      "source": [
        "\n",
        "Data=random.sample([0]*10 + [1]*17,27)\n",
        "\n",
        "\n",
        "Data\n",
        "\n"
      ],
      "execution_count": 37,
      "outputs": [
        {
          "output_type": "execute_result",
          "data": {
            "text/plain": [
              "[1,\n",
              " 1,\n",
              " 0,\n",
              " 0,\n",
              " 1,\n",
              " 0,\n",
              " 1,\n",
              " 0,\n",
              " 1,\n",
              " 0,\n",
              " 1,\n",
              " 1,\n",
              " 1,\n",
              " 1,\n",
              " 1,\n",
              " 1,\n",
              " 1,\n",
              " 0,\n",
              " 0,\n",
              " 0,\n",
              " 0,\n",
              " 1,\n",
              " 1,\n",
              " 0,\n",
              " 1,\n",
              " 1,\n",
              " 1]"
            ]
          },
          "metadata": {
            "tags": []
          },
          "execution_count": 37
        }
      ]
    },
    {
      "cell_type": "code",
      "metadata": {
        "id": "G6G1NP-t8mOj",
        "outputId": "9c3b0a66-2589-45e8-d136-10443e0e4f0b",
        "colab": {
          "base_uri": "https://localhost:8080/",
          "height": 238
        }
      },
      "source": [
        "prior_probab=1\n",
        "for i in range(27):\n",
        "  likelihood=((theta_range)**Data[i]) * ((1-theta_range)**(1-Data[i])) \n",
        "\n",
        "\n",
        "  posterior = (likelihood * prior_probab)\n",
        "\n",
        "  normalized_posterior=posterior/np.sum(posterior)\n",
        "\n",
        "  prior_probab = normalized_posterior\n",
        "\n",
        "normalized_posterior\n"
      ],
      "execution_count": 38,
      "outputs": [
        {
          "output_type": "execute_result",
          "data": {
            "text/plain": [
              "array([0.00000000e+00, 7.24822068e-23, 7.69675281e-18, 6.11587613e-15,\n",
              "       6.53076451e-13, 2.31651903e-11, 4.08389762e-10, 4.43586804e-09,\n",
              "       3.37432865e-08, 1.95227776e-07, 9.08793273e-07, 3.54266957e-06,\n",
              "       1.19101562e-05, 3.53086433e-05, 9.39022684e-05, 2.27069920e-04,\n",
              "       5.04659133e-04, 1.03980160e-03, 2.00017760e-03, 3.61279065e-03,\n",
              "       6.15614639e-03, 9.93407324e-03, 1.52279783e-02, 2.22292969e-02,\n",
              "       3.09606614e-02, 4.12013644e-02, 5.24377814e-02, 6.38601350e-02,\n",
              "       7.44215162e-02, 8.29630967e-02, 8.83926946e-02, 8.98861708e-02,\n",
              "       8.70678617e-02, 8.01227484e-02, 6.98028595e-02, 5.73133962e-02,\n",
              "       4.40955810e-02, 3.15544637e-02, 2.08001769e-02, 1.24714616e-02,\n",
              "       6.68750286e-03, 3.13360656e-03, 1.24175915e-03, 3.96547560e-04,\n",
              "       9.46704796e-05, 1.48946973e-05, 1.21875025e-06, 3.04636947e-08,\n",
              "       4.25520090e-11, 0.00000000e+00])"
            ]
          },
          "metadata": {
            "tags": []
          },
          "execution_count": 38
        }
      ]
    },
    {
      "cell_type": "code",
      "metadata": {
        "id": "JEC7PwDT94eG",
        "outputId": "368c96bd-7f75-49dc-f7d7-73ff2f3fffbd",
        "colab": {
          "base_uri": "https://localhost:8080/",
          "height": 187
        }
      },
      "source": [
        "\n",
        "likelihood"
      ],
      "execution_count": 39,
      "outputs": [
        {
          "output_type": "execute_result",
          "data": {
            "text/plain": [
              "array([0.        , 0.02040816, 0.04081633, 0.06122449, 0.08163265,\n",
              "       0.10204082, 0.12244898, 0.14285714, 0.16326531, 0.18367347,\n",
              "       0.20408163, 0.2244898 , 0.24489796, 0.26530612, 0.28571429,\n",
              "       0.30612245, 0.32653061, 0.34693878, 0.36734694, 0.3877551 ,\n",
              "       0.40816327, 0.42857143, 0.44897959, 0.46938776, 0.48979592,\n",
              "       0.51020408, 0.53061224, 0.55102041, 0.57142857, 0.59183673,\n",
              "       0.6122449 , 0.63265306, 0.65306122, 0.67346939, 0.69387755,\n",
              "       0.71428571, 0.73469388, 0.75510204, 0.7755102 , 0.79591837,\n",
              "       0.81632653, 0.83673469, 0.85714286, 0.87755102, 0.89795918,\n",
              "       0.91836735, 0.93877551, 0.95918367, 0.97959184, 1.        ])"
            ]
          },
          "metadata": {
            "tags": []
          },
          "execution_count": 39
        }
      ]
    },
    {
      "cell_type": "code",
      "metadata": {
        "id": "Eob-vXycFdGf",
        "outputId": "8e0df228-58de-41f4-de4c-22ff55c01560",
        "colab": {
          "base_uri": "https://localhost:8080/",
          "height": 474
        }
      },
      "source": [
        "\n",
        "fig, axes = plt.subplots(3, 1, sharex=True, figsize=(20,7))\n",
        "plt.xlabel('θ', fontsize=24)\n",
        "axes[0].plot(theta_range, prior, label=\"Prior\", linewidth=3, color='palegreen')\n",
        "axes[0].set_title(\"Prior\", fontsize=16)\n",
        "\n",
        "axes[1].plot(theta_range,likelihood, label='likelihood', linewidth=3, color='olivedrab')\n",
        "axes[1].set_title(\"likelihood\", fontsize=16)\n",
        "\n",
        "axes[2].plot(theta_range, normalized_posterior, label='normalized_posterior', linewidth=3, color='olivedrab')\n",
        "axes[2].set_title(\"normalized_posterior\", fontsize=16)\n",
        "plt.show()"
      ],
      "execution_count": 40,
      "outputs": [
        {
          "output_type": "display_data",
          "data": {
            "image/png": "[encoded data removed]",
            "text/plain": [
              "<Figure size 1440x504 with 3 Axes>"
            ]
          },
          "metadata": {
            "tags": [],
            "needs_background": "light"
          }
        }
      ]
    },
    {
      "cell_type": "code",
      "metadata": {
        "id": "U3hg1s9QGCcc"
      },
      "source": [
        "theta=0\n",
        "for i in range(50):\n",
        "  theta+=theta_range[i]* normalized_posterior[i]\n",
        "\n",
        "\n",
        "  \n",
        " "
      ],
      "execution_count": 41,
      "outputs": []
    },
    {
      "cell_type": "code",
      "metadata": {
        "id": "YZEpvJnp4ykq",
        "outputId": "dbe5c9fa-b0d3-479d-c0f8-da75bd2fecd5",
        "colab": {
          "base_uri": "https://localhost:8080/",
          "height": 34
        }
      },
      "source": [
        "theta"
      ],
      "execution_count": 42,
      "outputs": [
        {
          "output_type": "execute_result",
          "data": {
            "text/plain": [
              "0.6206896551722364"
            ]
          },
          "metadata": {
            "tags": []
          },
          "execution_count": 42
        }
      ]
    },
    {
      "cell_type": "code",
      "metadata": {
        "id": "--CaXU-FApwO",
        "outputId": "d8611aa6-95a1-4473-f377-a013003abb9b",
        "colab": {
          "base_uri": "https://localhost:8080/",
          "height": 34
        }
      },
      "source": [
        "np.max(normalized_posterior)"
      ],
      "execution_count": 43,
      "outputs": [
        {
          "output_type": "execute_result",
          "data": {
            "text/plain": [
              "0.0898861708105253"
            ]
          },
          "metadata": {
            "tags": []
          },
          "execution_count": 43
        }
      ]
    },
    {
      "cell_type": "code",
      "metadata": {
        "id": "VOUNu0CU4zeD"
      },
      "source": [
        "def variance(data):\n",
        "        mean=theta\n",
        "        return sum((x - mean) ** 2 for x in data) / len(data)\n",
        "\n",
        "\n",
        "def stdev(data):\n",
        "      var = variance(data)\n",
        "      std_dev = var**0.5\n",
        "      return std_dev"
      ],
      "execution_count": 44,
      "outputs": []
    },
    {
      "cell_type": "code",
      "metadata": {
        "id": "FwZKnUvP5d_S",
        "outputId": "c1e577d2-0c9c-4973-a175-f30330529dee",
        "colab": {
          "base_uri": "https://localhost:8080/",
          "height": 34
        }
      },
      "source": [
        "variance(theta_range),stdev(theta_range)"
      ],
      "execution_count": 45,
      "outputs": [
        {
          "output_type": "execute_result",
          "data": {
            "text/plain": [
              "(0.1013006867431443, 0.31827768810135637)"
            ]
          },
          "metadata": {
            "tags": []
          },
          "execution_count": 45
        }
      ]
    },
    {
      "cell_type": "code",
      "metadata": {
        "id": "HNI-QK3ZAMLe"
      },
      "source": [
        ""
      ],
      "execution_count": 45,
      "outputs": []
    }
  ]
}